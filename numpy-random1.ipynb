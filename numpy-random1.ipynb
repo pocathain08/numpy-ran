{
 "cells": [
  {
   "cell_type": "markdown",
   "metadata": {},
   "source": [
    "# The numpy.random package"
   ]
  },
  {
   "cell_type": "code",
   "execution_count": 1,
   "metadata": {},
   "outputs": [],
   "source": [
    "import numpy as np"
   ]
  },
  {
   "cell_type": "code",
   "execution_count": 5,
   "metadata": {},
   "outputs": [
    {
     "data": {
      "text/plain": [
       "array([[0.64707236, 0.1856464 ],\n",
       "       [0.1810971 , 0.54719754],\n",
       "       [0.89390223, 0.26085624]])"
      ]
     },
     "execution_count": 5,
     "metadata": {},
     "output_type": "execute_result"
    }
   ],
   "source": [
    " np.random.rand(3,2)"
   ]
  },
  {
   "cell_type": "markdown",
   "metadata": {},
   "source": [
    "- Creates an array of random numbers that contains 3 other arrays that look like floats\n",
    "- [0, 1) included 0 but not 1 in this distribution.\n",
    "- Generates random numbers using a bar chart of cts variables  "
   ]
  },
  {
   "cell_type": "code",
   "execution_count": 6,
   "metadata": {},
   "outputs": [
    {
     "data": {
      "text/plain": [
       "array([[0.36745389, 0.59859762],\n",
       "       [0.9064958 , 0.93757784],\n",
       "       [0.49089164, 0.56138188],\n",
       "       [0.6473265 , 0.98733907]])"
      ]
     },
     "execution_count": 6,
     "metadata": {},
     "output_type": "execute_result"
    }
   ],
   "source": [
    "np.random.rand(4,2)"
   ]
  },
  {
   "cell_type": "code",
   "execution_count": 7,
   "metadata": {},
   "outputs": [
    {
     "data": {
      "text/plain": [
       "array([[0.629538  , 0.42524034, 0.09019008, 0.09259745, 0.5672607 ,\n",
       "        0.20015161, 0.18030566, 0.84979441, 0.78859079, 0.87063359],\n",
       "       [0.82876694, 0.7293437 , 0.7948465 , 0.74312714, 0.48913796,\n",
       "        0.71051904, 0.9076026 , 0.95223756, 0.32644373, 0.22915912],\n",
       "       [0.64857794, 0.29272732, 0.95326669, 0.64284642, 0.92955408,\n",
       "        0.16925029, 0.80099373, 0.36371511, 0.33126182, 0.72926146]])"
      ]
     },
     "execution_count": 7,
     "metadata": {},
     "output_type": "execute_result"
    }
   ],
   "source": [
    "np.random.rand(3,10)"
   ]
  },
  {
   "cell_type": "code",
   "execution_count": 8,
   "metadata": {},
   "outputs": [
    {
     "data": {
      "text/plain": [
       "array([0.65303827, 0.31249454, 0.21622949, 0.30716305])"
      ]
     },
     "execution_count": 8,
     "metadata": {},
     "output_type": "execute_result"
    }
   ],
   "source": [
    "np.random.rand(4)"
   ]
  },
  {
   "cell_type": "code",
   "execution_count": 9,
   "metadata": {},
   "outputs": [
    {
     "data": {
      "text/plain": [
       "0.4111515343259563"
      ]
     },
     "execution_count": 9,
     "metadata": {},
     "output_type": "execute_result"
    }
   ],
   "source": [
    "np.random.rand()"
   ]
  },
  {
   "cell_type": "code",
   "execution_count": 11,
   "metadata": {},
   "outputs": [
    {
     "data": {
      "text/plain": [
       "array([[[0.38372563, 0.97139902, 0.22552458, 0.16607539],\n",
       "        [0.01382441, 0.13268791, 0.95080233, 0.62618227]],\n",
       "\n",
       "       [[0.9303263 , 0.08521835, 0.77524097, 0.2747258 ],\n",
       "        [0.73211832, 0.24873151, 0.29794701, 0.37383771]],\n",
       "\n",
       "       [[0.00432233, 0.60839702, 0.82006846, 0.49255035],\n",
       "        [0.25970443, 0.21116023, 0.57521331, 0.86646345]]])"
      ]
     },
     "execution_count": 11,
     "metadata": {},
     "output_type": "execute_result"
    }
   ],
   "source": [
    "np.random.rand(3, 2, 4)"
   ]
  },
  {
   "cell_type": "code",
   "execution_count": 13,
   "metadata": {},
   "outputs": [],
   "source": [
    "y = np.random.rand(10000)"
   ]
  },
  {
   "cell_type": "code",
   "execution_count": 14,
   "metadata": {},
   "outputs": [
    {
     "data": {
      "text/plain": [
       "(array([1002.,  992.,  985.,  977., 1033., 1027., 1032.,  980., 1008.,\n",
       "         964.]),\n",
       " array([9.74034757e-05, 1.00071966e-01, 2.00046528e-01, 3.00021091e-01,\n",
       "        3.99995653e-01, 4.99970215e-01, 5.99944778e-01, 6.99919340e-01,\n",
       "        7.99893903e-01, 8.99868465e-01, 9.99843027e-01]),\n",
       " <a list of 10 Patch objects>)"
      ]
     },
     "execution_count": 14,
     "metadata": {},
     "output_type": "execute_result"
    },
    {
     "data": {
      "image/png": "[encoded data removed]",
      "text/plain": [
       "<Figure size 432x288 with 1 Axes>"
      ]
     },
     "metadata": {
      "needs_background": "light"
     },
     "output_type": "display_data"
    }
   ],
   "source": [
    "%matplotlib inline\n",
    "\n",
    "import matplotlib.pyplot as plt\n",
    "\n",
    "plt.hist(y)"
   ]
  },
  {
   "cell_type": "markdown",
   "metadata": {},
   "source": [
    "- From above plot, this function is almost as likely to select any number in the interval [0, 1) as the other. "
   ]
  },
  {
   "cell_type": "code",
   "execution_count": null,
   "metadata": {},
   "outputs": [],
   "source": []
  }
 ],
 "metadata": {
  "kernelspec": {
   "display_name": "Python 3",
   "language": "python",
   "name": "python3"
  },
  "language_info": {
   "codemirror_mode": {
    "name": "ipython",
    "version": 3
   },
   "file_extension": ".py",
   "mimetype": "text/x-python",
   "name": "python",
   "nbconvert_exporter": "python",
   "pygments_lexer": "ipython3",
   "version": "3.7.4"
  }
 },
 "nbformat": 4,
 "nbformat_minor": 2
}
